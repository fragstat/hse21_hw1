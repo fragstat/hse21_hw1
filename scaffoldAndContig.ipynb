{
 "cells": [
  {
   "cell_type": "code",
   "execution_count": 1,
   "metadata": {},
   "outputs": [],
   "source": [
    "import numpy as np\n",
    "def analysis_c(contig):\n",
    "    counter = 0\n",
    "    length = 0\n",
    "    array = []\n",
    "    for row in contig:\n",
    "        if row[0] == '>':\n",
    "            counter += 1\n",
    "            length += int(row.split('_')[1][3:])\n",
    "            array.append(int(row.split('_')[1][3:]))\n",
    "    array = np.asarray(array)\n",
    "    array = np.sort(array)[::-1]\n",
    "    value = np.sum(array) / 2\n",
    "    n50 = array[np.cumsum(array) >= value][0]\n",
    "    \n",
    "    print('Общее количество контигов: ', counter)\n",
    "    print('Суммарная длина контигов: ', length)\n",
    "    print('Длина самого длинного контига: ', max(array))\n",
    "    print('N50: ', n50)"
   ]
  },
  {
   "cell_type": "code",
   "execution_count": 2,
   "metadata": {},
   "outputs": [],
   "source": [
    "def analysis_s(scaffold):\n",
    "    counter = 0\n",
    "    length = 0\n",
    "    array = []\n",
    "    for row in scaffold:\n",
    "        if row[0] == '>':\n",
    "            counter += 1\n",
    "            length += int(row.split('_')[1][3:])\n",
    "            array.append(int(row.split('_')[1][3:]))\n",
    "    array = np.asarray(array)\n",
    "    array = np.sort(array)[::-1]\n",
    "    value = np.sum(array) / 2\n",
    "    n50 = array[np.cumsum(array) >= value][0]\n",
    "    \n",
    "    print('Общее количество скаффолдов: ', counter)\n",
    "    print('Суммарная длина скаффолдов: ', length)\n",
    "    print('Длина самого длинного скаффолда: ', max(array))\n",
    "    print('N50: ', n50)"
   ]
  },
  {
   "cell_type": "code",
   "execution_count": 3,
   "metadata": {},
   "outputs": [
    {
     "name": "stdout",
     "output_type": "stream",
     "text": [
      "Общее количество контигов:  626\n",
      "Суммарная длина контигов:  3926502\n",
      "Длина самого длинного контига:  179307\n",
      "N50:  54903\n"
     ]
    }
   ],
   "source": [
    "contig_file = open('Poil_contig.fa', 'r')\n",
    "contig = contig_file.readlines()\n",
    "analysis_c(contig)"
   ]
  },
  {
   "cell_type": "code",
   "execution_count": 4,
   "metadata": {},
   "outputs": [
    {
     "name": "stdout",
     "output_type": "stream",
     "text": [
      "Общее количество скаффолдов:  69\n",
      "Суммарная длина скаффолдов:  3873334\n",
      "Длина самого длинного скаффолда:  3831631\n",
      "N50:  3831631\n"
     ]
    }
   ],
   "source": [
    "scaffold_file = open('Poil_scaffold.fa', 'r')\n",
    "scaffold = scaffold_file.readlines()\n",
    "analysis_s(scaffold)"
   ]
  },
  {
   "cell_type": "code",
   "execution_count": 6,
   "metadata": {},
   "outputs": [
    {
     "name": "stdout",
     "output_type": "stream",
     "text": [
      ">scaffold1_len3831631_cov231\n",
      "\n"
     ]
    }
   ],
   "source": [
    "for line in scaffold:\n",
    "    if int(line.split('_')[1][3:]) == 3831631:\n",
    "        print(line)\n",
    "        break"
   ]
  }
 ],
 "metadata": {
  "kernelspec": {
   "display_name": "Python 3",
   "language": "python",
   "name": "python3"
  },
  "language_info": {
   "codemirror_mode": {
    "name": "ipython",
    "version": 3
   },
   "file_extension": ".py",
   "mimetype": "text/x-python",
   "name": "python",
   "nbconvert_exporter": "python",
   "pygments_lexer": "ipython3",
   "version": "3.8.5"
  }
 },
 "nbformat": 4,
 "nbformat_minor": 4
}
